{
 "cells": [
  {
   "cell_type": "code",
   "execution_count": 1,
   "metadata": {},
   "outputs": [],
   "source": [
    "from importlib import reload"
   ]
  },
  {
   "cell_type": "code",
   "execution_count": 2,
   "metadata": {},
   "outputs": [],
   "source": [
    "import numpy as np\n",
    "import strategies as s\n",
    "from strategies import ts_sim, ac_sim\n",
    "from strategies import estimate, compare\n",
    "from strategies import car_rotation, spaceship_rotation"
   ]
  },
  {
   "cell_type": "code",
   "execution_count": 3,
   "metadata": {},
   "outputs": [],
   "source": [
    "start_speed = 1.0\n",
    "acceleration = 2.0\n",
    "distance = 10.0\n",
    "\n",
    "speed = np.array([np.cos(0.1), np.sin(0.1)]) * start_speed"
   ]
  },
  {
   "cell_type": "code",
   "execution_count": 4,
   "metadata": {},
   "outputs": [
    {
     "data": {
      "text/plain": [
       "0.9"
      ]
     },
     "execution_count": 4,
     "metadata": {},
     "output_type": "execute_result"
    }
   ],
   "source": [
    "ROT_CONST = 0.9\n",
    "cr = lambda sp: car_rotation(sp, ROT_CONST)\n",
    "sr = lambda sp: spaceship_rotation(sp, ROT_CONST)\n",
    "cr(speed)"
   ]
  },
  {
   "cell_type": "code",
   "execution_count": 5,
   "metadata": {},
   "outputs": [
    {
     "name": "stdout",
     "output_type": "stream",
     "text": [
      "0.5 -3.6732186766368233e-06\n",
      "0.25 -2.8713981616752e-06\n",
      "0.125 0.21062788358064166\n",
      "0.1875 -7.2078104812535255e-06\n",
      "0.15625 0.01324233051051652\n",
      "0.171875 -3.482716905027247e-06\n",
      "0.1640625 -1.7013599704330362e-05\n",
      "0.16015625 -1.9673012825707625e-05\n",
      "0.158203125 0.0009061340283432852\n",
      "0.1591796875 -1.1571641437726022e-06\n",
      "0.15869140625 -1.7823736235576616e-05\n",
      "0.158447265625 -1.4391139790407506e-05\n",
      "0.1583251953125 0.0001351283266163457\n",
      "0.15838623046875 -1.9478680391843146e-06\n"
     ]
    },
    {
     "data": {
      "text/plain": [
       "[3.287000000002512, inf]"
      ]
     },
     "execution_count": 5,
     "metadata": {},
     "output_type": "execute_result"
    }
   ],
   "source": [
    "start_angle: float = 0.1\n",
    "T = compare(start_speed, acceleration, start_angle, distance, [ts_sim, ac_sim], rotation=cr)\n",
    "T"
   ]
  },
  {
   "cell_type": "code",
   "execution_count": 6,
   "metadata": {},
   "outputs": [],
   "source": [
    "from strategies.accelerate_strategy import simulate, make_rotation, achieve_rotation"
   ]
  },
  {
   "cell_type": "code",
   "execution_count": 9,
   "metadata": {},
   "outputs": [
    {
     "data": {
      "text/plain": [
       "(2.709999999999986, array([10.,  0.]), array([1.00228546e+01, 9.47864213e-04]))"
      ]
     },
     "execution_count": 9,
     "metadata": {},
     "output_type": "execute_result"
    }
   ],
   "source": [
    "target = np.array([distance, 0], dtype=float)\n",
    "t, c = simulate(target, start_speed, start_angle, acceleration, make_rotation(cr, 0.159))\n",
    "t, target, c"
   ]
  }
 ],
 "metadata": {
  "kernelspec": {
   "display_name": "Python 3",
   "language": "python",
   "name": "python3"
  },
  "language_info": {
   "codemirror_mode": {
    "name": "ipython",
    "version": 3
   },
   "file_extension": ".py",
   "mimetype": "text/x-python",
   "name": "python",
   "nbconvert_exporter": "python",
   "pygments_lexer": "ipython3",
   "version": "3.10.11"
  }
 },
 "nbformat": 4,
 "nbformat_minor": 2
}
