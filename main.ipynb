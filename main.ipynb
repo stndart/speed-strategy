{
 "cells": [
  {
   "cell_type": "code",
   "execution_count": 1,
   "metadata": {},
   "outputs": [],
   "source": [
    "from importlib import reload"
   ]
  },
  {
   "cell_type": "code",
   "execution_count": 2,
   "metadata": {},
   "outputs": [],
   "source": [
    "import numpy as np\n",
    "import strategies as s\n",
    "from strategies import ts_sim, ac_sim\n",
    "from strategies import estimate, compare\n",
    "from strategies import car_rotation, spaceship_rotation"
   ]
  },
  {
   "cell_type": "code",
   "execution_count": 3,
   "metadata": {},
   "outputs": [],
   "source": [
    "start_speed = 1.0\n",
    "acceleration = 2.0\n",
    "distance = 10.0\n",
    "\n",
    "speed = np.array([np.cos(0.1), np.sin(0.1)]) * start_speed"
   ]
  },
  {
   "cell_type": "code",
   "execution_count": 4,
   "metadata": {},
   "outputs": [
    {
     "data": {
      "text/plain": [
       "0.9"
      ]
     },
     "execution_count": 4,
     "metadata": {},
     "output_type": "execute_result"
    }
   ],
   "source": [
    "ROT_CONST = 0.9\n",
    "cr = lambda sp: car_rotation(sp, ROT_CONST)\n",
    "sr = lambda sp: spaceship_rotation(sp, ROT_CONST)\n",
    "cr(speed)"
   ]
  },
  {
   "cell_type": "code",
   "execution_count": null,
   "metadata": {},
   "outputs": [
    {
     "data": {
      "text/plain": [
       "0.9200049775344132"
      ]
     },
     "execution_count": 8,
     "metadata": {},
     "output_type": "execute_result"
    }
   ],
   "source": [
    "T1 = estimate(start_speed, acceleration, distance, strategy=ac_sim, rotation=cr)\n",
    "T2 = estimate(start_speed, acceleration, distance, strategy=ts_sim, rotation=cr)\n",
    "T1, T2"
   ]
  }
 ],
 "metadata": {
  "kernelspec": {
   "display_name": "Python 3",
   "language": "python",
   "name": "python3"
  },
  "language_info": {
   "codemirror_mode": {
    "name": "ipython",
    "version": 3
   },
   "file_extension": ".py",
   "mimetype": "text/x-python",
   "name": "python",
   "nbconvert_exporter": "python",
   "pygments_lexer": "ipython3",
   "version": "3.10.11"
  }
 },
 "nbformat": 4,
 "nbformat_minor": 2
}
